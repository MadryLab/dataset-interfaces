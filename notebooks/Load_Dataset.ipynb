{
 "cells": [
  {
   "cell_type": "code",
   "execution_count": 1,
   "id": "c7211d56-a889-47cc-a99e-5c221caa3b19",
   "metadata": {},
   "outputs": [],
   "source": [
    "import os\n",
    "import sys\n",
    "sys.path.append('../dataset_interfaces')\n",
    "\n",
    "import torch\n",
    "import utils"
   ]
  },
  {
   "cell_type": "code",
   "execution_count": 2,
   "id": "ef99d2b4-e80d-41f1-a671-9688e3b9fddd",
   "metadata": {},
   "outputs": [],
   "source": [
    "mask_path = \"../masks.npy\"\n",
    "root = \"./\""
   ]
  },
  {
   "cell_type": "code",
   "execution_count": 3,
   "id": "ec31a7e4-990f-4d00-be65-afb138ad60f6",
   "metadata": {},
   "outputs": [],
   "source": [
    "ds = utils.ImageNet_Star_Dataset(root, \"base\", mask_path)"
   ]
  }
 ],
 "metadata": {
  "kernelspec": {
   "display_name": "Python 3 (ipykernel)",
   "language": "python",
   "name": "python3"
  },
  "language_info": {
   "codemirror_mode": {
    "name": "ipython",
    "version": 3
   },
   "file_extension": ".py",
   "mimetype": "text/x-python",
   "name": "python",
   "nbconvert_exporter": "python",
   "pygments_lexer": "ipython3",
   "version": "3.9.13"
  }
 },
 "nbformat": 4,
 "nbformat_minor": 5
}
